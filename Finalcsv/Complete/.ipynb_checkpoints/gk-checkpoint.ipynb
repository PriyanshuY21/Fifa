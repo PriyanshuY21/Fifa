{
 "cells": [
  {
   "cell_type": "code",
   "execution_count": 47,
   "id": "abe828bf-bdc8-4e07-8dac-7c2efcab809d",
   "metadata": {},
   "outputs": [],
   "source": [
    "import pandas as pd\n",
    "import numpy as np\n",
    "import csv\n",
    "from sklearn.preprocessing import StandardScaler, MinMaxScaler\n",
    "from sklearn.decomposition import PCA"
   ]
  },
  {
   "cell_type": "code",
   "execution_count": 48,
   "id": "173224d7-84a8-46a7-894b-4f5c5cfae105",
   "metadata": {},
   "outputs": [],
   "source": [
    "content = []\n",
    "with open('GK.csv', 'r', encoding='utf-8') as f:\n",
    "    reader = csv.DictReader(f)\n",
    "    for row in reader:\n",
    "        content.append(row)"
   ]
  },
  {
   "cell_type": "code",
   "execution_count": 49,
   "id": "b8b370c3-ef12-4c68-833a-5e835eee5a9b",
   "metadata": {},
   "outputs": [
    {
     "name": "stdout",
     "output_type": "stream",
     "text": [
      "         Player Name    Club Name Country Position MatchesPlayed  \\\n",
      "0     Lukáš Hrádecký   Leverkusen     FIN       GK            35   \n",
      "1        Matej Kovar   Leverkusen     CZE       GK            17   \n",
      "2        Niklas Lomb   Leverkusen     GER       GK             1   \n",
      "3       Andriy Lunin  Real Madrid     UKR       GK            31   \n",
      "4  Kepa Arrizabalaga  Real Madrid     ESP       GK            20   \n",
      "\n",
      "  MatchesStarted Minutes PostShotExpectedGoals/90min  \\\n",
      "0             35   3,150                         3.5   \n",
      "1             17   1,530                         5.7   \n",
      "2              1      90                        -0.3   \n",
      "3             31   2,850                         6.1   \n",
      "4             19   1,768                         1.3   \n",
      "\n",
      "  PostShotExpectedGoals-AllowedGoals/90minutes Saves  ... GKAttempted   /90  \\\n",
      "0                                         0.11    81  ...         145  33.8   \n",
      "1                                         0.44    55  ...          68  26.5   \n",
      "2                                        -0.34     2  ...           2     0   \n",
      "3                                         0.21    95  ...         170  28.2   \n",
      "4                                         0.08    45  ...          89  23.6   \n",
      "\n",
      "    Cmp CrossesStopped CrossesStopped% DefenseOutsidePenalyArea  \\\n",
      "0  34.5             27             8.6                       39   \n",
      "1    29             10             7.9                       16   \n",
      "2    13              0               0                        0   \n",
      "3  31.6             37             9.7                       26   \n",
      "4  29.5             10             4.7                       12   \n",
      "\n",
      "  DefenseOutsidePenalyArea/90min AvgDistanceofDefenseOutsidePenalyArea  \\\n",
      "0                           1.18                                  16.5   \n",
      "1                           1.23                                  15.8   \n",
      "2                              0                                    10   \n",
      "3                            0.9                                  11.2   \n",
      "4                           0.69                                  14.1   \n",
      "\n",
      "  CleanSheats CleanSheats%  \n",
      "0          17         48.6  \n",
      "1           7         41.2  \n",
      "2           0            0  \n",
      "3          12         38.7  \n",
      "4           9         47.4  \n",
      "\n",
      "[5 rows x 37 columns]\n"
     ]
    }
   ],
   "source": [
    "df = pd.DataFrame(content)\n",
    "print(df.head())\n",
    "df=df.copy()"
   ]
  },
  {
   "cell_type": "code",
   "execution_count": 50,
   "id": "5419ef70-34d9-4415-b5dc-55b9b93bc3e8",
   "metadata": {},
   "outputs": [],
   "source": [
    "# Convert relevant columns to numeric\n",
    "numeric_columns = ['ShotsOnTargetAgainst', 'Saves', 'ShortPassesAttempted', 'ThrowsAttempted', 'GKAttempted',\n",
    "                    'PostShotExpectedGoals-AllowedGoals/90minutes', 'Save%', 'GoalsAgainst/90', 'LongPassesCompleted%']\n",
    "df[numeric_columns] = df[numeric_columns].apply(pd.to_numeric, errors='coerce')\n",
    "\n",
    "# Compute derived metrics\n",
    "df['ShotsOnTargetAgainst/Saves'] = df['ShotsOnTargetAgainst'] / df['Saves']\n",
    "df['TotalAttempts'] = df['ShortPassesAttempted'] + df['ThrowsAttempted'] + df['GKAttempted']\n"
   ]
  },
  {
   "cell_type": "code",
   "execution_count": 51,
   "id": "822deebc-5526-4e00-a761-b592cc9d6bbc",
   "metadata": {},
   "outputs": [
    {
     "name": "stdout",
     "output_type": "stream",
     "text": [
      "       ShotsOnTargetAgainst       Saves\n",
      "count            228.000000  228.000000\n",
      "mean              80.263158   55.017544\n",
      "std               69.260226   47.890842\n",
      "min                0.000000    0.000000\n",
      "25%               16.000000   10.000000\n",
      "50%               63.000000   42.000000\n",
      "75%              139.250000   95.250000\n",
      "max              271.000000  189.000000\n"
     ]
    }
   ],
   "source": [
    "print(df[['ShotsOnTargetAgainst', 'Saves']].describe())\n"
   ]
  },
  {
   "cell_type": "code",
   "execution_count": 52,
   "id": "4fb27768-b336-4c37-96c9-0b26316fe468",
   "metadata": {},
   "outputs": [
    {
     "name": "stdout",
     "output_type": "stream",
     "text": [
      "Infinity or NaN values in each column:\n",
      "PostShotExpectedGoals-AllowedGoals/90minutes    23\n",
      "Save%                                            2\n",
      "ShotsOnTargetAgainst/Saves                       8\n",
      "GoalsAgainst/90                                  0\n",
      "LongPassesCompleted%                            24\n",
      "TotalAttempts                                   23\n",
      "dtype: int64\n"
     ]
    }
   ],
   "source": [
    "inf_check = df[features.columns].replace([np.inf, -np.inf], np.nan).isnull().sum()\n",
    "print(\"Infinity or NaN values in each column:\")\n",
    "print(inf_check)\n"
   ]
  },
  {
   "cell_type": "code",
   "execution_count": 53,
   "id": "acbe57da-eb51-40c5-8d8c-bdfe00ddf516",
   "metadata": {},
   "outputs": [],
   "source": [
    "df.replace([np.inf, -np.inf], np.nan, inplace=True)\n",
    "\n",
    "# Drop rows with NaN values\n",
    "df.dropna(inplace=True)\n"
   ]
  },
  {
   "cell_type": "code",
   "execution_count": 54,
   "id": "d6500b13-b5d6-4b89-89f2-fe0bb34a2285",
   "metadata": {},
   "outputs": [
    {
     "name": "stdout",
     "output_type": "stream",
     "text": [
      "Infinity or NaN values in each column:\n",
      "PostShotExpectedGoals-AllowedGoals/90minutes    0\n",
      "Save%                                           0\n",
      "ShotsOnTargetAgainst/Saves                      0\n",
      "GoalsAgainst/90                                 0\n",
      "LongPassesCompleted%                            0\n",
      "TotalAttempts                                   0\n",
      "dtype: int64\n"
     ]
    }
   ],
   "source": [
    "inf_check = df[features.columns].replace([np.inf, -np.inf], np.nan).isnull().sum()\n",
    "print(\"Infinity or NaN values in each column:\")\n",
    "print(inf_check)\n"
   ]
  },
  {
   "cell_type": "code",
   "execution_count": 55,
   "id": "b0158772-629f-4197-89ff-0dda45254634",
   "metadata": {},
   "outputs": [
    {
     "name": "stdout",
     "output_type": "stream",
     "text": [
      "Z-score Normalized Data:\n",
      "   PostShotExpectedGoals-AllowedGoals/90minutes     Save%  \\\n",
      "0                                      0.232183  0.613346   \n",
      "1                                      0.594342  0.930003   \n",
      "2                                     -0.261670 -0.327578   \n",
      "3                                      0.341928  0.568109   \n",
      "4                                      0.199259  0.206216   \n",
      "\n",
      "   ShotsOnTargetAgainst/Saves  GoalsAgainst/90  LongPassesCompleted%  \\\n",
      "0                   -0.697354        -0.415751             -0.075256   \n",
      "1                   -0.652672        -0.270154              0.650002   \n",
      "2                    0.014034        -0.270154              1.562069   \n",
      "3                   -0.518997        -0.265457              0.078586   \n",
      "4                   -0.412799        -0.307728              0.155508   \n",
      "\n",
      "   TotalAttempts  \n",
      "0       0.425082  \n",
      "1      -0.484561  \n",
      "2      -1.221016  \n",
      "3       0.441268  \n",
      "4      -0.165700  \n"
     ]
    }
   ],
   "source": [
    "\n",
    "# Select relevant columns for scaling\n",
    "features = df[['PostShotExpectedGoals-AllowedGoals/90minutes', 'Save%', 'ShotsOnTargetAgainst/Saves', 'GoalsAgainst/90', 'LongPassesCompleted%', 'TotalAttempts']]\n",
    "\n",
    "# Z-score Normalization\n",
    "scaler_z = StandardScaler()\n",
    "features_z = scaler_z.fit_transform(features)\n",
    "df_z = pd.DataFrame(features_z, columns=features.columns)\n",
    "print(\"Z-score Normalized Data:\")\n",
    "print(df_z.head())\n"
   ]
  },
  {
   "cell_type": "code",
   "execution_count": 56,
   "id": "04fe0306-fd5d-4669-ac5d-17cc762b891a",
   "metadata": {},
   "outputs": [
    {
     "name": "stdout",
     "output_type": "stream",
     "text": [
      "Min-Max Scaled Data:\n",
      "   PostShotExpectedGoals-AllowedGoals/90minutes  Save%  \\\n",
      "0                                      0.638270  0.771   \n",
      "1                                      0.659895  0.806   \n",
      "2                                      0.608781  0.667   \n",
      "3                                      0.644823  0.766   \n",
      "4                                      0.636304  0.726   \n",
      "\n",
      "   ShotsOnTargetAgainst/Saves  GoalsAgainst/90  LongPassesCompleted%  \\\n",
      "0                    0.098765         0.023000                 0.351   \n",
      "1                    0.103030         0.033333                 0.417   \n",
      "2                    0.166667         0.033333                 0.500   \n",
      "3                    0.115789         0.033667                 0.365   \n",
      "4                    0.125926         0.030667                 0.372   \n",
      "\n",
      "   TotalAttempts  \n",
      "0       0.496201  \n",
      "1       0.229345  \n",
      "2       0.013295  \n",
      "3       0.500950  \n",
      "4       0.322887  \n"
     ]
    }
   ],
   "source": [
    "# Min-Max Scaling\n",
    "scaler_mm = MinMaxScaler()\n",
    "features_mm = scaler_mm.fit_transform(features)\n",
    "df_mm = pd.DataFrame(features_mm, columns=features.columns)\n",
    "print(\"Min-Max Scaled Data:\")\n",
    "print(df_mm.head())"
   ]
  },
  {
   "cell_type": "code",
   "execution_count": 57,
   "id": "85c9b114-dcb5-42bd-b45c-e74e00b26864",
   "metadata": {},
   "outputs": [],
   "source": [
    "# Assuming df_z is your Z-score normalized DataFrame\n",
    "features_z = df_z\n"
   ]
  },
  {
   "cell_type": "code",
   "execution_count": 58,
   "id": "35ae03c7-453b-4235-a222-1e62185df948",
   "metadata": {},
   "outputs": [
    {
     "name": "stdout",
     "output_type": "stream",
     "text": [
      "PCA Transformed Data:\n",
      "   Principal Component 1  Principal Component 2\n",
      "0               1.063917               0.136458\n",
      "1               1.073340               0.694132\n",
      "2              -0.591696               0.687551\n",
      "3               0.896870               0.311816\n",
      "4               0.506230               0.094372\n"
     ]
    }
   ],
   "source": [
    "# Initialize PCA with the number of components you want to keep (e.g., 2)\n",
    "pca = PCA(n_components=2)\n",
    "\n",
    "# Fit and transform the data\n",
    "principal_components = pca.fit_transform(features_z)\n",
    "\n",
    "# Create a DataFrame with the principal components\n",
    "pca_df = pd.DataFrame(data=principal_components, columns=['Principal Component 1', 'Principal Component 2'])\n",
    "\n",
    "print(\"PCA Transformed Data:\")\n",
    "print(pca_df.head())\n"
   ]
  },
  {
   "cell_type": "code",
   "execution_count": 59,
   "id": "f4ba8f15-d76e-4db3-8382-bc003329625f",
   "metadata": {},
   "outputs": [
    {
     "data": {
      "image/png": "[encoded data removed]",
      "text/plain": [
       "<Figure size 800x600 with 1 Axes>"
      ]
     },
     "metadata": {},
     "output_type": "display_data"
    }
   ],
   "source": [
    "import matplotlib.pyplot as plt\n",
    "\n",
    "plt.figure(figsize=(8, 6))\n",
    "plt.scatter(pca_df['Principal Component 1'], pca_df['Principal Component 2'])\n",
    "plt.xlabel('Principal Component 1')\n",
    "plt.ylabel('Principal Component 2')\n",
    "plt.title('PCA of Features')\n",
    "plt.show()\n"
   ]
  },
  {
   "cell_type": "code",
   "execution_count": null,
   "id": "50697ec8-e19c-4b1e-8805-9ddd4512ece0",
   "metadata": {},
   "outputs": [],
   "source": []
  }
 ],
 "metadata": {
  "kernelspec": {
   "display_name": "Python 3 (ipykernel)",
   "language": "python",
   "name": "python3"
  },
  "language_info": {
   "codemirror_mode": {
    "name": "ipython",
    "version": 3
   },
   "file_extension": ".py",
   "mimetype": "text/x-python",
   "name": "python",
   "nbconvert_exporter": "python",
   "pygments_lexer": "ipython3",
   "version": "3.12.5"
  }
 },
 "nbformat": 4,
 "nbformat_minor": 5
}
